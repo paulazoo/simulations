{
 "cells": [
  {
   "cell_type": "code",
   "execution_count": 2,
   "metadata": {},
   "outputs": [],
   "source": [
    "import random\n",
    "import math\n",
    "import matplotlib.pyplot as plt\n",
    "import numpy as np"
   ]
  },
  {
   "cell_type": "markdown",
   "metadata": {},
   "source": [
    "# Monte Carlo A"
   ]
  },
  {
   "cell_type": "code",
   "execution_count": 3,
   "metadata": {},
   "outputs": [
    {
     "name": "stdout",
     "output_type": "stream",
     "text": [
      "Estimated Integral: 0.3315121609624472\n"
     ]
    }
   ],
   "source": [
    "def f(x):\n",
    "    return x**2\n",
    "\n",
    "def monte_carlo_integration(num_samples, a, b):\n",
    "    integral_sum = 0\n",
    "\n",
    "    for _ in range(num_samples):\n",
    "        x = random.uniform(a, b)\n",
    "        integral_sum += f(x)\n",
    "\n",
    "    estimated_integral = ((b - a) / num_samples) * integral_sum\n",
    "    return estimated_integral\n",
    "\n",
    "num_samples = 10000  # You can adjust the number of samples for more accuracy\n",
    "a, b = 0, 1  # Integration limits\n",
    "estimated_integral = monte_carlo_integration(num_samples, a, b)\n",
    "\n",
    "print(f\"Estimated Integral: {estimated_integral}\")"
   ]
  },
  {
   "cell_type": "markdown",
   "metadata": {},
   "source": [
    "# Monte Carlo Importance Sampling"
   ]
  },
  {
   "cell_type": "code",
   "execution_count": 6,
   "metadata": {},
   "outputs": [
    {
     "name": "stdout",
     "output_type": "stream",
     "text": [
      "Estimated Integral: 1.5633994889690292\n"
     ]
    }
   ],
   "source": [
    "def f(x):\n",
    "    return 1 / (x**2 + 1)\n",
    "\n",
    "def sampling_distribution(x):\n",
    "    return 2 / (2 + x)\n",
    "\n",
    "def original_distribution():\n",
    "    x = random.uniform(a, b)\n",
    "    return x\n",
    "\n",
    "def importance_sampling(num_samples, a, b):\n",
    "    integral_sum = 0\n",
    "\n",
    "    for _ in range(num_samples):\n",
    "        x = original_distribution()\n",
    "        weight = sampling_distribution(x) / (b - a)\n",
    "        integral_sum += f(x) / weight\n",
    "\n",
    "    estimated_integral = integral_sum / num_samples\n",
    "    return estimated_integral\n",
    "\n",
    "num_samples = 10000  # You can adjust the number of samples for more accuracy\n",
    "a, b = -1, 1  # Integration limits\n",
    "estimated_integral = importance_sampling(num_samples, a, b)\n",
    "\n",
    "print(f\"Estimated Integral: {estimated_integral}\")"
   ]
  },
  {
   "cell_type": "markdown",
   "metadata": {},
   "source": [
    "# Rejection Sampling"
   ]
  },
  {
   "cell_type": "code",
   "execution_count": 8,
   "metadata": {},
   "outputs": [],
   "source": [
    "# Target distribution (normal distribution)\n",
    "def target_distribution(x):\n",
    "    return (1 / (math.sqrt(2 * math.pi))) * math.exp(-0.5 * x**2)\n",
    "\n",
    "# Proposal distribution (uniform distribution)\n",
    "def proposal_distribution(a, b):\n",
    "    return random.uniform(a, b)\n",
    "\n",
    "def rejection_sampling(a, b):\n",
    "    while True:\n",
    "        x = proposal_distribution(a, b)\n",
    "        accept_prob = target_distribution(x) / (1 / (b - a))\n",
    "\n",
    "        if random.uniform(0, 1) < accept_prob:\n",
    "            sample = x\n",
    "            break\n",
    "\n",
    "    return sample\n",
    "\n",
    "a, b = -3, 3  # Range for the uniform proposal distribution\n",
    "sample = rejection_sampling(a, b)"
   ]
  },
  {
   "cell_type": "markdown",
   "metadata": {},
   "source": [
    "# Inverse Sampling"
   ]
  },
  {
   "cell_type": "code",
   "execution_count": null,
   "metadata": {},
   "outputs": [],
   "source": [
    "# Generate a random number from an exponential distribution with rate lambda\n",
    "def inverse_sampling_exponential():\n",
    "    # Generate a random number sampled from U(0, 1)\n",
    "    u = random.random()\n",
    "    \n",
    "    # Use the inverse of the CDF for the exponential distribution to transform the random number\n",
    "    # Inverse CDF for exponential distribution: x = -ln(1 - u) / lambda\n",
    "    lambda_val = 0.5\n",
    "    sampled_value = -math.log(1 - u) / lambda_val\n",
    "    \n",
    "    return sampled_value\n",
    "\n",
    "# Generate numbers following an exponential distribution\n",
    "random_number = inverse_sampling_exponential()\n",
    "print(f\"Random Number: {random_number:.4f}\")\n"
   ]
  },
  {
   "cell_type": "markdown",
   "metadata": {},
   "source": [
    "# Metropolis-Hastings"
   ]
  },
  {
   "cell_type": "code",
   "execution_count": null,
   "metadata": {},
   "outputs": [],
   "source": [
    "# Define the target distribution (a simple discrete distribution)\n",
    "def target_distribution(x):\n",
    "    if x == 1:\n",
    "        return 0.3\n",
    "    elif x == 2:\n",
    "        return 0.4\n",
    "    else:\n",
    "        return 0.3\n",
    "\n",
    "# Proposal distribution (simple random walk)\n",
    "def proposal_distribution(x):\n",
    "    return x + random.choice([-1, 1])\n",
    "\n",
    "def metropolis_hastings(num_samples, initial_sample):\n",
    "    samples = [initial_sample]\n",
    "\n",
    "    for _ in range(num_samples - 1):\n",
    "        current_sample = samples[-1]\n",
    "        proposed_sample = proposal_distribution(current_sample)\n",
    "\n",
    "        # Calculate acceptance ratio\n",
    "        acceptance_ratio = min(1, target_distribution(proposed_sample) / target_distribution(current_sample))\n",
    "\n",
    "        # Accept or reject the proposal\n",
    "        if random.uniform(0, 1) < acceptance_ratio:\n",
    "            samples.append(proposed_sample)\n",
    "        else:\n",
    "            samples.append(current_sample)\n",
    "\n",
    "    return samples\n",
    "\n",
    "num_samples = 100\n",
    "initial_sample = 1  # Start from state 1\n",
    "samples = metropolis_hastings(num_samples, initial_sample)"
   ]
  },
  {
   "cell_type": "markdown",
   "metadata": {},
   "source": [
    "# SSA"
   ]
  },
  {
   "cell_type": "code",
   "execution_count": null,
   "metadata": {},
   "outputs": [],
   "source": [
    "# Initialize the system\n",
    "population = 10\n",
    "time = 0\n",
    "time_points = [time]\n",
    "population_counts = [population]\n",
    "\n",
    "# Simulation parameters\n",
    "end_time = 100.0\n",
    "\n",
    "while time < end_time:\n",
    "    # Define reaction constants\n",
    "    birth_rate = 2.0\n",
    "    death_rate = 0.02\n",
    "\n",
    "    # Calculate the propensity functions\n",
    "    a_birth = birth_rate\n",
    "    a_death = death_rate * population\n",
    "    rxn_as = np.array([a_birth, a_death])\n",
    "    a_total = np.sum(rxn_as)\n",
    "    \n",
    "    if a_total != 0: # can't divide by 0\n",
    "\n",
    "        # Calculate time step (tau) from exponential distribution\n",
    "        tau = -np.log(np.random.uniform(0,1)) / a_total\n",
    "\n",
    "        # Determine the next reaction to occur\n",
    "        possible_rxns = np.arange(len(rxn_as))\n",
    "        i = np.random.choice(possible_rxns, p=rxn_as/a_total)\n",
    "\n",
    "        # Apply rxn\n",
    "        if i == 0:\n",
    "            population += 1\n",
    "        elif i == 1:\n",
    "            population -= 1\n",
    "\n",
    "        # Update time and counts\n",
    "        time += tau\n",
    "        population_counts.append(population)\n",
    "        time_points.append(time)\n",
    "    else: # a0 == 0, no more rxns\n",
    "        time = end_time\n",
    "        population_counts.append(population)\n",
    "        time_points.append(time)\n",
    "\n",
    "# Plot the results\n",
    "plt.plot(time_points, population_counts)"
   ]
  },
  {
   "cell_type": "markdown",
   "metadata": {},
   "source": [
    "# Tau leaping"
   ]
  },
  {
   "cell_type": "code",
   "execution_count": null,
   "metadata": {},
   "outputs": [],
   "source": [
    "# Initialize the system\n",
    "population = 10\n",
    "time = 0\n",
    "time_points = [time]\n",
    "population_counts = [population]\n",
    "\n",
    "# Simulation parameters\n",
    "end_time = 10.0\n",
    "tau = 0.1\n",
    "\n",
    "while time < end_time:\n",
    "    # Define reaction constants\n",
    "    birth_rate = 2.0\n",
    "    death_rate = 0.02\n",
    "\n",
    "    # Calculate the propensity functions\n",
    "    a_birth = birth_rate\n",
    "    a_death = death_rate * population\n",
    "\n",
    "    # Sample the number of reactions for each channel from Poisson distribution\n",
    "    num_births = 0\n",
    "    num_deaths = 0\n",
    "    if (a_birth*tau > 0):\n",
    "        num_births = np.random.poisson(a_birth * tau)\n",
    "    if (a_death*tau > 0):\n",
    "        num_deaths = np.random.poisson(a_death * tau)\n",
    "\n",
    "    # Update time and population count\n",
    "    time += tau\n",
    "    population += num_births - num_deaths\n",
    "    population_counts.append(population)\n",
    "    time_points.append(time)\n",
    "\n",
    "# Plot the results\n",
    "plt.step(time_points, population_counts)"
   ]
  },
  {
   "cell_type": "markdown",
   "metadata": {},
   "source": [
    "# PSO"
   ]
  },
  {
   "cell_type": "code",
   "execution_count": 576,
   "metadata": {},
   "outputs": [
    {
     "name": "stdout",
     "output_type": "stream",
     "text": [
      "Iteration 1: Global Best Value = 0.1242\n",
      "Iteration 2: Global Best Value = 0.1242\n",
      "Iteration 3: Global Best Value = 0.0003\n",
      "Iteration 4: Global Best Value = 0.0003\n",
      "Iteration 5: Global Best Value = 0.0003\n",
      "Iteration 6: Global Best Value = 0.0003\n",
      "Iteration 7: Global Best Value = 0.0003\n",
      "Iteration 8: Global Best Value = 0.0003\n",
      "Iteration 9: Global Best Value = 0.0003\n",
      "Iteration 10: Global Best Value = 0.0003\n",
      "Optimal Solution: x = -0.01583582034806863, f(x) = 0.0003\n"
     ]
    }
   ],
   "source": [
    "def f(x):\n",
    "    return x**2\n",
    "\n",
    "# Define the PSO parameters\n",
    "num_particles = 10\n",
    "max_iterations = 10\n",
    "c1 = 1.5  # Cognitive parameter\n",
    "c2 = 1.5  # Social parameter\n",
    "w = 0.7   # Inertia weight\n",
    "\n",
    "# Initialize the particles\n",
    "particles = []\n",
    "for _ in range(num_particles):\n",
    "    position = random.uniform(-10, 10)  # Random initial position\n",
    "    velocity = random.uniform(-1, 1)    # Random initial velocity\n",
    "    personal_best_position = position\n",
    "    personal_best_value = f(position)\n",
    "    particles.append([position, velocity, personal_best_position, personal_best_value])\n",
    "\n",
    "# Initialize the global best-known position and value\n",
    "global_best_position = particles[0][0]\n",
    "global_best_value = particles[0][3]\n",
    "\n",
    "# PSO optimization loop\n",
    "for iteration in range(max_iterations):\n",
    "    for i in range(num_particles):\n",
    "        particle = particles[i]\n",
    "        position, velocity, personal_best_position, personal_best_value = particle\n",
    "\n",
    "        # 1. Update velocity and position\n",
    "        r1, r2 = random.random(), random.random()\n",
    "        velocity = w * velocity + c1 * r1 * (personal_best_position - position) + c2 * r2 * (global_best_position - position)\n",
    "        position = position + velocity\n",
    "\n",
    "        # 2. Evaluate the objective function at the new position\n",
    "        value = f(position)\n",
    "\n",
    "        # 3. Update personal best if needed\n",
    "        if value < personal_best_value:\n",
    "            personal_best_position = position\n",
    "            personal_best_value = value\n",
    "\n",
    "        # 4. Update global best if needed\n",
    "        if value < global_best_value:\n",
    "            global_best_position = position\n",
    "            global_best_value = value\n",
    "\n",
    "        # 5. Update the particle's information\n",
    "        particles[i] = [position, velocity, personal_best_position, personal_best_value]\n",
    "\n",
    "    print(f\"Iteration {iteration + 1}: Global Best Value = {global_best_value:.4f}\")\n",
    "\n",
    "print(f\"Optimal Solution: x = {global_best_position}, f(x) = {global_best_value:.4f}\")"
   ]
  },
  {
   "cell_type": "markdown",
   "metadata": {},
   "source": [
    "# ACO"
   ]
  },
  {
   "cell_type": "code",
   "execution_count": 548,
   "metadata": {},
   "outputs": [
    {
     "name": "stdout",
     "output_type": "stream",
     "text": [
      "Best Tour Found: [3, 1, 0, 2, 9, 8, 7, 4, 6, 5]\n",
      "Total Distance: 38.385810980638034\n"
     ]
    },
    {
     "data": {
      "image/png": "[encoded data removed]",
      "text/plain": [
       "<Figure size 640x480 with 1 Axes>"
      ]
     },
     "metadata": {},
     "output_type": "display_data"
    }
   ],
   "source": [
    "# Define the distance matrix between cities (1st city to 2nd city)\n",
    "distance_matrix = [\n",
    "    [0, 3.605551275463989, 5.0990195135927845, 7.211102550927978, 10.816653826391969, 8.54400374531753, 12.806248474865697, 13.038404810405298, 13.341664064126334, 10.0],\n",
    "    [3.605551275463989, 0, 3.605551275463989, 4.123105625617661, 7.615773105863909, 5.0990195135927845, 9.219544457292887, 9.848857801796104, 11.0, 8.54400374531753],\n",
    "    [5.0990195135927845, 3.605551275463989, 0, 3.1622776601683795, 6.4031242374328485, 7.280109889280518, 9.486832980505138, 8.48528137423857, 8.246211251235321, 5.0990195135927845],\n",
    "    [7.211102550927978, 4.123105625617661, 3.1622776601683795, 0, 3.605551275463989, 5.0, 6.324555320336759, 5.830951894845301, 7.0710678118654755, 5.656854249492381],\n",
    "    [10.816653826391969, 7.615773105863909, 6.4031242374328485, 3.605551275463989, 0, 6.324555320336759, 4.123105625617661, 2.23606797749979, 5.0, 6.082762530298219],\n",
    "    [8.54400374531753, 5.0990195135927845, 7.280109889280518, 5.0, 6.324555320336759, 0, 5.385164807134504, 8.06225774829855, 11.180339887498949, 10.63014581273465],\n",
    "    [12.806248474865697, 9.219544457292887, 9.486832980505138, 6.324555320336759, 4.123105625617661, 5.385164807134504, 0, 4.242640687119285, 8.602325267042627, 10.198039027185569],\n",
    "    [13.038404810405298, 9.848857801796104, 8.48528137423857, 5.830951894845301, 2.23606797749979, 8.06225774829855, 4.242640687119285, 0, 4.47213595499958, 7.0710678118654755],\n",
    "    [13.341664064126334, 11.0, 8.246211251235321, 7.0710678118654755, 5.0, 11.180339887498949, 8.602325267042627, 4.47213595499958, 0, 4.242640687119285],\n",
    "    [10.0, 8.54400374531753, 5.0990195135927845, 5.656854249492381, 6.082762530298219, 10.63014581273465, 10.198039027185569, 7.0710678118654755, 4.242640687119285, 0]\n",
    "]\n",
    "\n",
    "# ACO parameters\n",
    "num_ants = 3\n",
    "num_iterations = 1000\n",
    "initial_pheromone = 0.001\n",
    "evaporation_rate = 0.01\n",
    "pheromone_deposit_rate = 1.0\n",
    "alpha = 3.0 # Pheromone Importance\n",
    "beta = 1.0 # Heuristic Importance\n",
    "exploitation_prob_q = 0.05 # Exploitation vs Exploration probability \n",
    "\n",
    "# Initialize pheromone levels\n",
    "num_cities = len(distance_matrix)\n",
    "pheromone_matrix = [[initial_pheromone+1] * num_cities for _ in range(num_cities)]\n",
    "\n",
    "# ACO main loop\n",
    "for iteration in range(num_iterations):\n",
    "\n",
    "    ant_tours = []\n",
    "    # 1. Loop through ants\n",
    "    for ant in range(num_ants):\n",
    "        # 2. randomly initialize ant at random city\n",
    "        start_city = random.randint(0, num_cities - 1)\n",
    "        tour = [start_city]\n",
    "\n",
    "        # 3. Loop through remaining cities\n",
    "        while len(tour) < num_cities:\n",
    "            remaining_cities = [i for i in range(num_cities) if i not in tour]\n",
    "            probabilities = []\n",
    "\n",
    "            # 4. Decide Exploitation vs Exploration\n",
    "            if random.uniform(0, 1) > exploitation_prob_q:\n",
    "                # Explore based on pheromones\n",
    "                for city in remaining_cities:\n",
    "                    pheromone = pheromone_matrix[start_city][city]\n",
    "                    distance = distance_matrix[start_city][city]\n",
    "                    attractiveness = (pheromone ** alpha) * ((1 / distance) ** beta)\n",
    "                    probabilities.append((city, attractiveness))\n",
    "                total_attractiveness = sum(attractiveness for _, attractiveness in probabilities)\n",
    "                probabilities = [(city, attractiveness / total_attractiveness) for city, attractiveness in probabilities]\n",
    "\n",
    "                next_city = np.random.choice([city for city, _ in probabilities], p=[prob for _, prob in probabilities])\n",
    "            else:\n",
    "                # Exploit based on pure heuristic\n",
    "                min_distance = max(max(distance_matrix)) # initialize min_distance\n",
    "                for city in remaining_cities:\n",
    "                    if min_distance >= distance_matrix[start_city][city]:\n",
    "                        min_distance = distance_matrix[start_city][city]\n",
    "                        next_city = city\n",
    "            \n",
    "            # 5. Local update pheromone levels to incentivize new trails\n",
    "            pheromone_matrix[start_city][next_city] = (1 - evaporation_rate)*pheromone_matrix[start_city][next_city] + (evaporation_rate * initial_pheromone)\n",
    "            pheromone_matrix[next_city][start_city] = (1 - evaporation_rate)*pheromone_matrix[start_city][next_city] + (evaporation_rate * initial_pheromone)\n",
    "            tour.append(next_city)\n",
    "            start_city = next_city\n",
    "\n",
    "        ant_tours.append(tour)\n",
    "\n",
    "    # for plotting\n",
    "    prev_best_distance = best_distance\n",
    "    # 6. Find the best tour in this iteration\n",
    "    best_tour = min(ant_tours, key=lambda tour: sum(distance_matrix[tour[i - 1]][tour[i]] for i in range(1, num_cities)))\n",
    "    best_distance = sum(distance_matrix[best_tour[i - 1]][best_tour[i]] for i in range(1, num_cities))\n",
    "    # 7. Trail update pheromone levels\n",
    "    for i in range(1, num_cities):\n",
    "        pheromone_matrix[best_tour[i-1]][best_tour[i]] += pheromone_deposit_rate / best_distance\n",
    "        pheromone_matrix[best_tour[i]][best_tour[i-1]] += pheromone_deposit_rate / best_distance\n",
    "\n",
    "\n",
    "    plt.plot([iteration, iteration + 1], [prev_best_distance, best_distance])\n",
    "\n",
    "print(\"Best Tour Found:\", best_tour)\n",
    "print(\"Total Distance:\", best_distance)\n",
    "plt.show()"
   ]
  },
  {
   "cell_type": "markdown",
   "metadata": {},
   "source": [
    "# DE"
   ]
  },
  {
   "cell_type": "code",
   "execution_count": 3,
   "metadata": {},
   "outputs": [
    {
     "name": "stdout",
     "output_type": "stream",
     "text": [
      "Best Solution: [ 4.41175621 -0.52758748]\n",
      "Best Fitness: 19.74194138421374\n",
      "Best Solution: [ 4.41175621 -0.52758748]\n",
      "Best Fitness: 19.74194138421374\n",
      "Best Solution: [-0.49708186 -0.0597067 ]\n",
      "Best Fitness: 0.25065526941514615\n",
      "Best Solution: [-0.49708186 -0.0597067 ]\n",
      "Best Fitness: 0.25065526941514615\n",
      "Best Solution: [-0.49708186 -0.0597067 ]\n",
      "Best Fitness: 0.25065526941514615\n",
      "Best Solution: [0.11870417 0.48221743]\n",
      "Best Fitness: 0.24662432951451072\n",
      "Best Solution: [-0.14440907  0.01058759]\n",
      "Best Fitness: 0.020966077069033456\n",
      "Best Solution: [-0.00122927  0.10352288]\n",
      "Best Fitness: 0.010718498212355987\n",
      "Best Solution: [-0.00122927  0.10352288]\n",
      "Best Fitness: 0.010718498212355987\n",
      "Best Solution: [-0.05115475 -0.08012017]\n",
      "Best Fitness: 0.009036049255503473\n"
     ]
    }
   ],
   "source": [
    "def f(x):\n",
    "    return sum(x**2)\n",
    "\n",
    "# DE Parameters\n",
    "population_size=5  # Size of the population\n",
    "min_bound=-10   # Lower bound for each parameter\n",
    "max_bound=10   # Upper bound for each parameter\n",
    "num_generations = 10\n",
    "mutation=0.8 # Mutation Factor\n",
    "crossover_probability=0.7  # Crossover_probability\n",
    "dimensions = 2 # Number of dimensions of an individual\n",
    "\n",
    "# 1. Initialize population with random solutions and their fitnesses\n",
    "population = min_bound + np.random.rand(population_size, dimensions)*(max_bound-min_bound)\n",
    "fitnesses = np.array([f(individual) for individual in population])\n",
    "\n",
    "# 2. Loop through generations\n",
    "for generation in range(num_generations):\n",
    "    # 3. Loop through population\n",
    "    for individual in range(population_size):\n",
    "\n",
    "        # 4. Choose 3 different individuals out of the population\n",
    "        # Select indices of all individuals except the current individual\n",
    "        idxs = [idx for idx in range(population_size) if idx != individual]\n",
    "        a, b, c = population[np.random.choice(idxs, 3, replace = False)]\n",
    "\n",
    "        # 5. Generate a mutant donor using the mutation factor and ensure still in bounds\n",
    "        mutant_donor = np.clip(a + mutation * (b - c), min_bound, max_bound)\n",
    "\n",
    "        # 6. Crossover Operation\n",
    "        # randomly select dimension points for crossover based on crossover probability\n",
    "        points_to_crossover = np.random.rand(dimensions) < crossover_probability\n",
    "        # Ensure at least one dimension/parameter is modified\n",
    "        if not np.any(points_to_crossover):\n",
    "            points_to_crossover[np.random.randint(0, dimensions)] = True\n",
    "        # Do Crossover\n",
    "        trial_individual = np.where(points_to_crossover, mutant_donor, population[individual])\n",
    "        trial_individual_fitness = f(trial_individual)\n",
    "\n",
    "        # 7. Individual is replaced is trial_individual has better fitness\n",
    "        if trial_individual_fitness < fitnesses[individual]:\n",
    "            fitnesses[individual] = trial_individual_fitness\n",
    "            population[individual] = trial_individual\n",
    "\n",
    "    # Find the best solution in the final population\n",
    "    best_solution = min(population, key=f)\n",
    "    best_fitness = f(best_solution)\n",
    "\n",
    "    print(f\"Best Solution: {best_solution}\")\n",
    "    print(f\"Best Fitness: {best_fitness}\")"
   ]
  },
  {
   "cell_type": "markdown",
   "metadata": {},
   "source": [
    "# PBIL"
   ]
  },
  {
   "cell_type": "code",
   "execution_count": 654,
   "metadata": {},
   "outputs": [
    {
     "name": "stdout",
     "output_type": "stream",
     "text": [
      "Best Individual: [1, 1, 1, 0, 1, 0, 1, 0, 1, 0] Fitness: 6\n",
      "Best Individual: [1, 1, 0, 0, 1, 1, 1, 1, 1, 0] Fitness: 7\n",
      "Best Individual: [1, 1, 1, 0, 1, 0, 1, 1, 1, 1] Fitness: 8\n",
      "Best Individual: [1, 0, 1, 0, 1, 1, 1, 1, 1, 1] Fitness: 8\n",
      "Best Individual: [1, 1, 1, 0, 1, 1, 1, 0, 1, 1] Fitness: 8\n",
      "Best Individual: [1, 1, 1, 1, 1, 0, 1, 1, 1, 1] Fitness: 9\n",
      "Best Individual: [0, 1, 1, 1, 1, 0, 1, 1, 0, 1] Fitness: 7\n",
      "Best Individual: [1, 1, 1, 1, 1, 1, 1, 1, 1, 1] Fitness: 10\n",
      "Best Individual: [1, 1, 1, 1, 1, 1, 1, 1, 1, 1] Fitness: 10\n",
      "Best Individual: [1, 1, 1, 1, 1, 1, 1, 1, 1, 1] Fitness: 10\n"
     ]
    }
   ],
   "source": [
    "# Define the MaxOnes fitness function\n",
    "def max_ones_fitness(binary_vector):\n",
    "    return sum(binary_vector)\n",
    "\n",
    "# PBIL parameters\n",
    "vector_length = 10  # Length of the binary vector\n",
    "population_size = 5\n",
    "alpha = 0.2  # Alpha rate for updating probabilities (basically learning rate)\n",
    "mutation_prob = 0.02  # Probability of mutating a bit\n",
    "beta = 1.0 # Mutation strength\n",
    "num_generations = 10\n",
    "\n",
    "# Initialize the probability vector with equal probabilities\n",
    "probability_vector = np.array([0.5] * vector_length)\n",
    "\n",
    "# Main PBIL loop\n",
    "for generation in range(num_generations):\n",
    "    # 1. Generate a population based on the probability vector\n",
    "    population = [[int(random.random() < p) for p in probability_vector] for _ in range(population_size)]\n",
    "    \n",
    "    # 2. Evaluate the fitness of each individual\n",
    "    fitness_values = [max_ones_fitness(individual) for individual in population]\n",
    "    \n",
    "    # 3. Find the best individual in the population\n",
    "    best_individual = np.array(population[fitness_values.index(max(fitness_values))])\n",
    "    \n",
    "    # 4. Update the probability vector with alpha\n",
    "    probability_vector = (1-alpha)*probability_vector  + (alpha*best_individual)\n",
    "    \n",
    "    # Mutate each element in probability vector based on mutation prob\n",
    "    for i in range(vector_length):\n",
    "        if random.random() < mutation_prob:\n",
    "            probability_vector[i] = (1-beta)*probability_vector[i] + (beta*random.uniform(0,1))\n",
    "\n",
    "    # Find the best individual in the final population\n",
    "    best_individual = max(population, key=max_ones_fitness)\n",
    "    best_fitness = max_ones_fitness(best_individual)\n",
    "\n",
    "    print(\"Best Individual:\", best_individual, \"Fitness:\", best_fitness)\n"
   ]
  },
  {
   "cell_type": "markdown",
   "metadata": {},
   "source": [
    "# PBILc"
   ]
  },
  {
   "cell_type": "code",
   "execution_count": 619,
   "metadata": {},
   "outputs": [
    {
     "name": "stdout",
     "output_type": "stream",
     "text": [
      "Best Parameter Vector: [0.46888632 0.54627467] Best Fitness: -0.5182703869594648\n",
      "Best Parameter Vector: [0.39924071 0.45875045] Best Fitness: -0.3698451271509875\n",
      "Best Parameter Vector: [0.42085799 0.35316008] Best Fitness: -0.3018434925009673\n",
      "Best Parameter Vector: [0.43818061 0.237306  ] Best Fitness: -0.2483163874620917\n",
      "Best Parameter Vector: [0.40625321 0.32200055] Best Fitness: -0.2687260309046179\n",
      "Best Parameter Vector: [0.33628493 0.28180303] Best Fitness: -0.1925005040925098\n",
      "Best Parameter Vector: [0.27561629 0.2262637 ] Best Fitness: -0.12715959984775912\n",
      "Best Parameter Vector: [0.02939499 0.30611676] Best Fitness: -0.09457153844125527\n",
      "Best Parameter Vector: [0.05723213 0.13434918] Best Fitness: -0.021325218863756108\n",
      "Best Parameter Vector: [0.16193774 0.02373301] Best Fitness: -0.026787086895781784\n"
     ]
    }
   ],
   "source": [
    "def f(x):\n",
    "    return -sum(x**2) # Negative since PBIL and PBILc finds the max\n",
    "\n",
    "# PBIL parameters\n",
    "vector_length = 2  # Length of the parameter vector\n",
    "population_size = 10\n",
    "alpha = 0.1  # Alpha rate for updating the parameter vector (learning rate)\n",
    "num_generations = 10\n",
    "\n",
    "# Initialize the parameter vector with random values\n",
    "parameter_vector = np.array([0.5] * vector_length)\n",
    "# Standard deviation for normal distribution sampling\n",
    "standard_deviations = np.array([0.5] * vector_length)\n",
    "\n",
    "# Main PBIL loop\n",
    "for generation in range(num_generations):\n",
    "    # 1. Generate a population based on the parameter vector\n",
    "    population = [parameter_vector + np.random.normal(0, standard_deviations, vector_length) for _ in range(population_size)]\n",
    "\n",
    "    # 2. Evaluate the fitness of each individual\n",
    "    fitness_values = [f(individual) for individual in population]\n",
    "    \n",
    "    # 3. Find the indices of the two best individuals and the worst individual\n",
    "    best_indices = np.argsort(fitness_values)[-2:]  # Two best individuals\n",
    "    worst_index = np.argmin(fitness_values)  # Worst individual\n",
    "    \n",
    "    # 4. Update the parameter vector using the two best and subtracting the worst\n",
    "    parameter_vector += alpha*(population[best_indices[0]]+population[best_indices[1]]-population[worst_index])\n",
    "    \n",
    "    # 5. Update standard deviation\n",
    "\n",
    "    \n",
    "    # Find the best individual in the final population\n",
    "    best_fitness = f(parameter_vector)\n",
    "\n",
    "    print(\"Best Parameter Vector:\", parameter_vector, \"Best Fitness:\", best_fitness)"
   ]
  },
  {
   "cell_type": "markdown",
   "metadata": {},
   "source": [
    "# ES(1+1) with 1/5 rule"
   ]
  },
  {
   "cell_type": "code",
   "execution_count": null,
   "metadata": {},
   "outputs": [],
   "source": [
    "def f(x):\n",
    "    return x**2\n",
    "\n",
    "# ES parameters\n",
    "sigma = 0.1  # Initial mutation step size\n",
    "max_generations = 100\n",
    "\n",
    "# Success rule parameters\n",
    "success_counter = 0\n",
    "success_rate = 1/5  # The 1/5 rule: Acceptance rate threshold\n",
    "\n",
    "# Initial guess for the solution\n",
    "x = 5.0  # You can choose any initial value\n",
    "\n",
    "# Main (1+1) ES loop\n",
    "generations_counter = 0\n",
    "for generation in range(max_generations):\n",
    "    # 1. Create 1 candidate solution by applying a random mutation\n",
    "    candidate = x + random.gauss(0, sigma)\n",
    "    \n",
    "    # 2. Evaluate the fitness of the candidate solution\n",
    "    current_fitness = f(x)\n",
    "    candidate_fitness = f(candidate)\n",
    "    \n",
    "    # 3. Decide whether to accept the candidate based on fitness\n",
    "    if candidate_fitness < current_fitness:\n",
    "        x = candidate  # Accept the candidate solution\n",
    "        success_counter += 1\n",
    "    generations_counter += 1\n",
    "\n",
    "    # 4. Check the success rate against the 1/5 rule\n",
    "    if success_counter / generations_counter >= success_rate:\n",
    "        # Increase mutation step size if the success rate is met\n",
    "        sigma *= 1.5\n",
    "        success_counter = 0  # Reset success counter\n",
    "        generations_counter = 0 # Reset generations counter\n",
    "    else:\n",
    "        # If not that many of the new surrounding points are better, decrease sigma\n",
    "        sigma *= 0.9\n",
    "\n",
    "    # Print the best solution in this generation\n",
    "    print(f\"Best Solution = {x:.4f}, Best Fitness = {current_fitness:.4f}, Sigma = {sigma:.4f}\")\n"
   ]
  },
  {
   "cell_type": "markdown",
   "metadata": {},
   "source": [
    "# Cov matrix"
   ]
  },
  {
   "cell_type": "code",
   "execution_count": 3,
   "metadata": {},
   "outputs": [
    {
     "name": "stdout",
     "output_type": "stream",
     "text": [
      "[[448. 520.]\n",
      " [520. 700.]]\n"
     ]
    }
   ],
   "source": [
    "x = [92, 60, 100]\n",
    "y = [80, 30, 70]\n",
    "\n",
    "normed_X = np.array([x - np.mean(x), y - np.mean(y)])\n",
    "\n",
    "C = np.matmul(normed_X,normed_X.T) / (len(x)-1)\n",
    "print(C)"
   ]
  }
 ],
 "metadata": {
  "kernelspec": {
   "display_name": "Python 3 (ipykernel)",
   "language": "python",
   "name": "python3"
  },
  "language_info": {
   "codemirror_mode": {
    "name": "ipython",
    "version": 3
   },
   "file_extension": ".py",
   "mimetype": "text/x-python",
   "name": "python",
   "nbconvert_exporter": "python",
   "pygments_lexer": "ipython3",
   "version": "3.11.6"
  }
 },
 "nbformat": 4,
 "nbformat_minor": 4
}
